{
 "cells": [
  {
   "cell_type": "code",
   "execution_count": 46,
   "id": "f7ef00f8",
   "metadata": {},
   "outputs": [
    {
     "ename": "AttributeError",
     "evalue": "module 'pandas' has no attribute 'display'",
     "output_type": "error",
     "traceback": [
      "\u001b[1;31m---------------------------------------------------------------------------\u001b[0m",
      "\u001b[1;31mAttributeError\u001b[0m                            Traceback (most recent call last)",
      "Cell \u001b[1;32mIn[46], line 5\u001b[0m\n\u001b[0;32m      3\u001b[0m \u001b[38;5;28;01mimport\u001b[39;00m \u001b[38;5;21;01mseaborn\u001b[39;00m \u001b[38;5;28;01mas\u001b[39;00m \u001b[38;5;21;01msns\u001b[39;00m\n\u001b[0;32m      4\u001b[0m plt\u001b[38;5;241m.\u001b[39mstyle\u001b[38;5;241m.\u001b[39muse(\u001b[38;5;124m'\u001b[39m\u001b[38;5;124mggplot\u001b[39m\u001b[38;5;124m'\u001b[39m)\n\u001b[1;32m----> 5\u001b[0m \u001b[43mpd\u001b[49m\u001b[38;5;241;43m.\u001b[39;49m\u001b[43mdisplay\u001b[49m(\u001b[38;5;124m'\u001b[39m\u001b[38;5;124mmax_columns\u001b[39m\u001b[38;5;124m'\u001b[39m,\u001b[38;5;241m200\u001b[39m)\n",
      "\u001b[1;31mAttributeError\u001b[0m: module 'pandas' has no attribute 'display'"
     ]
    }
   ],
   "source": [
    "import pandas as pd\n",
    "from matplotlib import pyplot as plt\n",
    "import seaborn as sns\n",
    "plt.style.use('ggplot')\n",
    "pd.set_option('max_columns',200)"
   ]
  },
  {
   "cell_type": "code",
   "execution_count": 44,
   "id": "6357a1c1",
   "metadata": {},
   "outputs": [
    {
     "data": {
      "text/plain": [
       "OBJECTID                    int64\n",
       "ACCIDENT_NO                object\n",
       "ABS_CODE                   object\n",
       "ACCIDENT_STATUS            object\n",
       "ACCIDENT_DATE      datetime64[ns]\n",
       "                        ...      \n",
       "DIVIDED_ALL                object\n",
       "STAT_DIV_NAME              object\n",
       "MONTH                       int32\n",
       "DAY                         int32\n",
       "HOUR                       object\n",
       "Length: 66, dtype: object"
      ]
     },
     "execution_count": 44,
     "metadata": {},
     "output_type": "execute_result"
    }
   ],
   "source": [
    "# Data Cleaning\n",
    "crash_data = pd.read_csv('data.csv')\n",
    "crash_data['ACCIDENT_DATE'] = pd.to_datetime(crash_data['ACCIDENT_DATE'], format='%d/%m/%Y')\n",
    "crash_data['MONTH'] = crash_data['ACCIDENT_DATE'].dt.month\n",
    "crash_data['DAY'] = crash_data['ACCIDENT_DATE'].dt.day\n",
    "crash_data[\"HOUR\"] = crash_data['ACCIDENT_TIME']\n",
    "crash_data[\"MALES\"] = pd.to_numeric(crash_data[\"MALES\"])\n",
    "crash_data[\"FEMALES\"] = pd.to_numeric(crash_data[\"FEMALES\"])\n",
    "crash_data[\"HOUR\"]\n",
    "crash_data.dtypes\n",
    "# crash_data.columns\n",
    "# crash_data.dtypes\n",
    "# crash_data.describe()"
   ]
  },
  {
   "cell_type": "code",
   "execution_count": 3,
   "id": "a00ba63b",
   "metadata": {},
   "outputs": [],
   "source": [
    "# plt.scatter(hv.ACCIDENT_DATE,hv.ACCIDENT_TIME, alpha=0.3, c='r')\n",
    "# hv['ACCIDENT_DATE'] = pd.to_datetime(hv['ACCIDENT_DATE'], format='%d/%m/%Y')\n",
    "# plt.scatter(hv.ACCIDENT_DATE,hv.FATALITY, alpha=0.3, c='r')\n",
    "# plt.title(\"People Killed during an accident\")\n",
    "# plt.xlabel(\"Year\")\n",
    "# plt.ylabel(\"Number of people dead\")\n"
   ]
  },
  {
   "cell_type": "code",
   "execution_count": 4,
   "id": "ef68d997",
   "metadata": {},
   "outputs": [],
   "source": [
    "# crash_data['Month'] = crash_data[\"ACCIDENT_DATE\"].str[0:2]\n",
    "# crash_data['Month'] = crash_data[\"Month\"].astype('int32')"
   ]
  },
  {
   "cell_type": "code",
   "execution_count": 14,
   "id": "53e2990e",
   "metadata": {},
   "outputs": [],
   "source": [
    "# sns.barplot(x=\"DAY_OF_WEEK\",y=\"INJ_OR_FATAL\",data=crash_data)"
   ]
  },
  {
   "cell_type": "code",
   "execution_count": 11,
   "id": "e39bcd79",
   "metadata": {},
   "outputs": [],
   "source": [
    "# sns.barplot(x=\"MONTH\",y=\"INJ_OR_FATAL\",data=crash_data).set(title='Injury and Death on Average Per Crash')"
   ]
  },
  {
   "cell_type": "code",
   "execution_count": 12,
   "id": "f22f5b60",
   "metadata": {},
   "outputs": [],
   "source": [
    "# sns.barplot(x=\"ALCOHOLTIME\",y=\"FATALITY\",data=crash_data).set(title='Fatality Occuring under the influence of alcohol')"
   ]
  },
  {
   "cell_type": "code",
   "execution_count": 13,
   "id": "c2f6c211",
   "metadata": {},
   "outputs": [],
   "source": [
    "# sns.barplot(x=\"ALCOHOLTIME\",y=\"INJ_OR_FATAL\",data=crash_data).set(title='Injury or Fatality Occuring under the influence of alcohol')"
   ]
  },
  {
   "cell_type": "code",
   "execution_count": 7,
   "id": "8db4fabb",
   "metadata": {},
   "outputs": [],
   "source": [
    "# alcohol_group = crash_data.groupby(\"ALCOHOLTIME\")\n",
    "# alcohol_group.corr()\n",
    "# sns.heatmap(alcohol_group.corr(), annot=True)"
   ]
  },
  {
   "cell_type": "code",
   "execution_count": 8,
   "id": "2a217473",
   "metadata": {},
   "outputs": [],
   "source": [
    "# crash_datamale = crash_data[crash_data.MALES > 0]\n",
    "# crash_datafemale = crash_data[crash_data.FEMALES > 0]\n",
    "\n"
   ]
  },
  {
   "cell_type": "code",
   "execution_count": 9,
   "id": "8d4c725c",
   "metadata": {},
   "outputs": [],
   "source": [
    "# sns.barplot(x=\"ALCOHOLTIME\",y=\"FATALITY\",data=crash_datamale).set(title='Fatality Occuring under the influence of alcohol Male')"
   ]
  },
  {
   "cell_type": "code",
   "execution_count": 10,
   "id": "ee3f7110",
   "metadata": {},
   "outputs": [],
   "source": [
    "# sns.barplot(x=\"ALCOHOLTIME\",y=\"FATALITY\",data=crash_datafemale).set(title='Fatality Occuring under the influence of alcohol Female')\n"
   ]
  },
  {
   "cell_type": "code",
   "execution_count": null,
   "id": "5f354903",
   "metadata": {},
   "outputs": [],
   "source": []
  },
  {
   "cell_type": "code",
   "execution_count": null,
   "id": "eb96dd0b",
   "metadata": {},
   "outputs": [],
   "source": []
  }
 ],
 "metadata": {
  "kernelspec": {
   "display_name": "Python 3 (ipykernel)",
   "language": "python",
   "name": "python3"
  },
  "language_info": {
   "codemirror_mode": {
    "name": "ipython",
    "version": 3
   },
   "file_extension": ".py",
   "mimetype": "text/x-python",
   "name": "python",
   "nbconvert_exporter": "python",
   "pygments_lexer": "ipython3",
   "version": "3.10.12"
  }
 },
 "nbformat": 4,
 "nbformat_minor": 5
}
